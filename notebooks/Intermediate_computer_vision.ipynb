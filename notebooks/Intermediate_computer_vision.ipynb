{
 "cells": [
  {
   "cell_type": "code",
   "execution_count": 3,
   "id": "cb4fc3aa-d200-4db1-bcd3-3986d07aa98a",
   "metadata": {},
   "outputs": [],
   "source": [
    "import torch\n",
    "import torchvision\n",
    "import torchvision.transforms as transforms\n",
    "from torch.utils.data import DataLoader\n",
    "\n",
    "download=False\n",
    "\n",
    "# Transform for normalization\n",
    "transform = transforms.Compose([\n",
    "    transforms.ToTensor(),\n",
    "    transforms.Normalize((0.5, 0.5, 0.5), (0.5, 0.5, 0.5))  # mean, std for RGB\n",
    "])\n",
    "\n",
    "# Download CIFAR-10\n",
    "trainset = torchvision.datasets.CIFAR10(root='./data', train=True,\n",
    "                                        download=download, transform=transform)\n",
    "trainloader = DataLoader(trainset, batch_size=64,\n",
    "                                          shuffle=True, num_workers=2)\n",
    "\n",
    "# Load the test set\n",
    "testset = torchvision.datasets.CIFAR10(\n",
    "    root='./data',\n",
    "    train=False,            \n",
    "    download=download,\n",
    "    transform=transform\n",
    ")\n",
    "\n",
    "# Wrap in a DataLoader\n",
    "testloader = DataLoader(\n",
    "    testset,\n",
    "    batch_size=64,\n",
    "    shuffle=False,\n",
    "    num_workers=2\n",
    ")"
   ]
  },
  {
   "cell_type": "code",
   "execution_count": 5,
   "id": "ab58ad53-d308-4cb8-80a6-90152dcd42d2",
   "metadata": {},
   "outputs": [],
   "source": [
    "def get_device():\n",
    "    if torch.cuda.is_available():\n",
    "        return torch.device(\"cuda\")\n",
    "    elif torch.backends.mps.is_available() and torch.backends.mps.is_built():\n",
    "        return torch.device(\"mps\")\n",
    "    else:\n",
    "        return torch.device(\"cpu\")\n",
    "\n",
    "device = get_device()"
   ]
  },
  {
   "cell_type": "code",
   "execution_count": 7,
   "id": "9db91386-a46e-4fbe-9e5c-ecc87a1db621",
   "metadata": {},
   "outputs": [],
   "source": [
    "import torch.nn as nn\n",
    "import torch.nn.functional as F\n",
    "\n",
    "class MLP(nn.Module):\n",
    "    def __init__(self, input_size=32*32*3, num_classes=10):\n",
    "        super().__init__()\n",
    "        self.fc1 = nn.Linear(input_size, 512)\n",
    "        self.fc2 = nn.Linear(512, 256)\n",
    "        self.fc3 = nn.Linear(256, num_classes)\n",
    "\n",
    "    def forward(self, x):\n",
    "        x = x.view(x.size(0), -1)  # flatten\n",
    "        x = F.relu(self.fc1(x))\n",
    "        x = F.relu(self.fc2(x))\n",
    "        return self.fc3(x)\n",
    "\n",
    "class CNN(nn.Module):\n",
    "    def __init__(self, num_classes=10):\n",
    "        super().__init__()\n",
    "        self.conv1 = nn.Conv2d(3, 32, 3, padding=1)\n",
    "        self.conv2 = nn.Conv2d(32, 64, 3, padding=1)\n",
    "        self.pool = nn.MaxPool2d(2, 2)\n",
    "        self.fc1 = nn.Linear(64 * 8 * 8, 256)\n",
    "        self.fc2 = nn.Linear(256, num_classes)\n",
    "\n",
    "    def forward(self, x):\n",
    "        x = self.pool(F.relu(self.conv1(x)))  # 32x32 -> 16x16\n",
    "        x = self.pool(F.relu(self.conv2(x)))  # 16x16 -> 8x8\n",
    "        x = x.view(x.size(0), -1)\n",
    "        x = F.relu(self.fc1(x))\n",
    "        return self.fc2(x)\n"
   ]
  },
  {
   "cell_type": "code",
   "execution_count": 8,
   "id": "7dbf4932-3d16-44d3-b055-88499b580868",
   "metadata": {},
   "outputs": [],
   "source": [
    "def train(model, loader, optimizer, criterion):\n",
    "    model.train()\n",
    "    for inputs, labels in loader:\n",
    "        inputs, labels = inputs.to(device), labels.to(device)\n",
    "        optimizer.zero_grad()\n",
    "        outputs = model(inputs)\n",
    "        loss = criterion(outputs, labels)\n",
    "        loss.backward()\n",
    "        optimizer.step()\n",
    "\n",
    "def test(model, loader):\n",
    "    model.eval()\n",
    "    correct, total = 0, 0\n",
    "    with torch.no_grad():\n",
    "        for inputs, labels in loader:\n",
    "            inputs, labels = inputs.to(device), labels.to(device)\n",
    "            outputs = model(inputs)\n",
    "            _, preds = torch.max(outputs, 1)\n",
    "            correct += (preds == labels).sum().item()\n",
    "            total += labels.size(0)\n",
    "    return correct / total\n"
   ]
  },
  {
   "cell_type": "code",
   "execution_count": 9,
   "id": "ab285a62-5fb6-4117-a1b4-0a30acbbe897",
   "metadata": {},
   "outputs": [
    {
     "name": "stdout",
     "output_type": "stream",
     "text": [
      "MLP Epoch 1 - Test Accuracy: 0.4741\n",
      "MLP Epoch 2 - Test Accuracy: 0.4941\n",
      "MLP Epoch 3 - Test Accuracy: 0.5068\n",
      "MLP Epoch 4 - Test Accuracy: 0.5205\n",
      "MLP Epoch 5 - Test Accuracy: 0.5152\n",
      "CNN Epoch 1 - Test Accuracy: 0.6361\n",
      "CNN Epoch 2 - Test Accuracy: 0.6882\n",
      "CNN Epoch 3 - Test Accuracy: 0.7001\n",
      "CNN Epoch 4 - Test Accuracy: 0.7296\n",
      "CNN Epoch 5 - Test Accuracy: 0.7242\n"
     ]
    }
   ],
   "source": [
    "# MLP\n",
    "mlp = MLP().to(device)\n",
    "optimizer = torch.optim.Adam(mlp.parameters(), lr=1e-3)\n",
    "criterion = nn.CrossEntropyLoss()\n",
    "\n",
    "for epoch in range(5):\n",
    "    train(mlp, trainloader, optimizer, criterion)\n",
    "    acc = test(mlp, testloader)\n",
    "    print(f\"MLP Epoch {epoch+1} - Test Accuracy: {acc:.4f}\")\n",
    "\n",
    "# CNN\n",
    "cnn = CNN().to(device)\n",
    "optimizer = torch.optim.Adam(cnn.parameters(), lr=1e-3)\n",
    "\n",
    "for epoch in range(5):\n",
    "    train(cnn, trainloader, optimizer, criterion)\n",
    "    acc = test(cnn, testloader)\n",
    "    print(f\"CNN Epoch {epoch+1} - Test Accuracy: {acc:.4f}\")\n"
   ]
  },
  {
   "cell_type": "code",
   "execution_count": 4,
   "id": "bf3311f1-c12d-4c22-9dfd-f6667d16ac52",
   "metadata": {},
   "outputs": [
    {
     "name": "stdout",
     "output_type": "stream",
     "text": [
      "Accuracy: 0.4626\n"
     ]
    }
   ],
   "source": [
    "import numpy as np\n",
    "from sklearn.ensemble import RandomForestClassifier\n",
    "from sklearn.metrics import accuracy_score\n",
    "\n",
    "# Flatten CIFAR-10 for sklearn\n",
    "X_train = trainset.data.reshape((len(trainset.data), -1))  # shape: [50000, 3072]\n",
    "y_train = np.array(trainset.targets)\n",
    "\n",
    "# Train a random forest\n",
    "clf = RandomForestClassifier(n_estimators=100, n_jobs=-1)\n",
    "clf.fit(X_train, y_train)\n",
    "\n",
    "# Test on test set (similarly reshaped)\n",
    "X_test = testset.data.reshape((len(testset.data), -1))\n",
    "y_test = np.array(testset.targets)\n",
    "print(\"Accuracy:\", clf.score(X_test, y_test))\n"
   ]
  },
  {
   "cell_type": "code",
   "execution_count": null,
   "id": "67c83d5e-5c35-4917-89bc-513e4bbaa403",
   "metadata": {},
   "outputs": [],
   "source": []
  }
 ],
 "metadata": {
  "kernelspec": {
   "display_name": "Python (PyTorch Tutorials)",
   "language": "python",
   "name": "pytorch-tutorials"
  },
  "language_info": {
   "codemirror_mode": {
    "name": "ipython",
    "version": 3
   },
   "file_extension": ".py",
   "mimetype": "text/x-python",
   "name": "python",
   "nbconvert_exporter": "python",
   "pygments_lexer": "ipython3",
   "version": "3.10.18"
  }
 },
 "nbformat": 4,
 "nbformat_minor": 5
}
